{
 "cells": [
  {
   "attachments": {},
   "cell_type": "markdown",
   "metadata": {},
   "source": [
    "# Mobile App for Lottery Addiction\n",
    "\n",
    "Many people start playing the lottery for fun, but for some this activity turns into a habit which eventually escalates into addiction. Like other compulsive gamblers, lottery addicts soon begin spending from their savings and loans, they start to accumulate debts, and eventually engage in desperate behaviors like theft.\n",
    "\n",
    "In this project we will estimate the chances of winning. We expect the chances are very low and hopefully this data can help gambling addicts with their addiction.\n",
    "\n",
    "We will focus on the [6/49](https://en.wikipedia.org/wiki/Lotto_6/49) lottery and show statics for:\n",
    "\n",
    "* The probability of winning the big prize with a single ticket?\n",
    "* The probability of winning the big prize if we play 40 different tickets (or any other number)?\n",
    "* The probability of having at least five (or four, or three, or two) winning numbers on a single ticket?\n",
    "\n",
    "We will consider historical data coming from the national 6/49 lottery game in Canada. [The data set](https://www.kaggle.com/datascienceai/lottery-dataset) has data for 3,665 drawings, dating from 1982 to 2018."
   ]
  },
  {
   "attachments": {},
   "cell_type": "markdown",
   "metadata": {},
   "source": [
    "## Defining formulas used in this project"
   ]
  },
  {
   "cell_type": "code",
   "execution_count": 18,
   "metadata": {},
   "outputs": [],
   "source": [
    "# Calculates the factorial for n\n",
    "# n!\n",
    "def factorial(n):\n",
    "    x = 1\n",
    "    for i in range(n, 0, -1):\n",
    "        x *= i\n",
    "\n",
    "    return x"
   ]
  },
  {
   "cell_type": "code",
   "execution_count": 20,
   "metadata": {},
   "outputs": [],
   "source": [
    "# Calculated the combinations (not permutations) for k objects from a group of n objects\n",
    "# n choose k = n! / k!(n-k)!\n",
    "def combinations(n, k):\n",
    "    numerator = factorial(n)\n",
    "    demoninator = factorial(k) * factorial(n - k)\n",
    "    return numerator / demoninator"
   ]
  },
  {
   "attachments": {},
   "cell_type": "markdown",
   "metadata": {},
   "source": [
    "## The Big Prize\n",
    "\n",
    "In the 6/49 lottery, six numbers are drawn from a set of 49 numbers that range from 1 to 49. A player wins the big prize if the six numbers on their tickets match all the six numbers drawn. If a player has a ticket with the numbers {13, 22, 24, 27, 42, 44}, he only wins the big prize if the numbers drawn are {13, 22, 24, 27, 42, 44}. If only one number differs, he doesn't win.\n",
    "\n",
    "It's important to mention that the numbers drawn are sampled without replacement."
   ]
  },
  {
   "cell_type": "code",
   "execution_count": 24,
   "metadata": {},
   "outputs": [
    {
     "name": "stdout",
     "output_type": "stream",
     "text": [
      "The chances of winning the big prize is 0.00000715%\n"
     ]
    }
   ],
   "source": [
    "# We will use the numbers {13, 22, 24, 27, 42, 44} in our examples\n",
    "# Imagine these are the numbers printed on a ticket\n",
    "ticket_number = [13, 22, 24, 27, 42, 44]\n",
    "\n",
    "def big_prize_probability(numbers):\n",
    "    total_outcomes = combinations(49, 6)\n",
    "\n",
    "    # P(a) = successful outcomes (1) / possible outcomes (total_outcomes)\n",
    "    p_big_prize = 1 / total_outcomes # 1 because there's only 1 successful outcome: 13, 22, 24, 27, 42 and 44.\n",
    "    return p_big_prize\n",
    "\n",
    "print(\"The chances of winning the big prize is {}%\".format(format(big_prize_probability(ticket_number)*100, '.8f')))"
   ]
  },
  {
   "attachments": {},
   "cell_type": "markdown",
   "metadata": {},
   "source": [
    "A 0.00000715% probability can be rephrased as a very small chance of something happening. It means that out of 1 million attempts, this event is expected to happen only about 0.07 times. So, the likelihood of the event occurring is extremely low.\n",
    "\n",
    "* odds against = (1 - probability) / probability\n",
    "* odds against = (1 - 0.00000715) / 0.00000715\n",
    "* odds against = 139.859,139\n",
    "\n",
    "In other words. The player has a chance of 1 in 139.859,139 to win"
   ]
  },
  {
   "attachments": {},
   "cell_type": "markdown",
   "metadata": {},
   "source": [
    "## Historical Data Check for Canada Lottery\n",
    "\n",
    "Let's clarify the small chance of winning with a real world example by using our ticket numbers (13, 22, 24, 27, 42, 44) and check if we would've ever won the big prize since the beginning of the lottery. The 6/49 lottery was created in 1982."
   ]
  },
  {
   "cell_type": "code",
   "execution_count": 25,
   "metadata": {},
   "outputs": [
    {
     "name": "stdout",
     "output_type": "stream",
     "text": [
      "<class 'pandas.core.frame.DataFrame'>\n",
      "RangeIndex: 3665 entries, 0 to 3664\n",
      "Data columns (total 11 columns):\n",
      " #   Column           Non-Null Count  Dtype \n",
      "---  ------           --------------  ----- \n",
      " 0   PRODUCT          3665 non-null   int64 \n",
      " 1   DRAW NUMBER      3665 non-null   int64 \n",
      " 2   SEQUENCE NUMBER  3665 non-null   int64 \n",
      " 3   DRAW DATE        3665 non-null   object\n",
      " 4   NUMBER DRAWN 1   3665 non-null   int64 \n",
      " 5   NUMBER DRAWN 2   3665 non-null   int64 \n",
      " 6   NUMBER DRAWN 3   3665 non-null   int64 \n",
      " 7   NUMBER DRAWN 4   3665 non-null   int64 \n",
      " 8   NUMBER DRAWN 5   3665 non-null   int64 \n",
      " 9   NUMBER DRAWN 6   3665 non-null   int64 \n",
      " 10  BONUS NUMBER     3665 non-null   int64 \n",
      "dtypes: int64(10), object(1)\n",
      "memory usage: 315.1+ KB\n"
     ]
    }
   ],
   "source": [
    "import pandas as pd\n",
    "\n",
    "dataset = pd.read_csv(\"data/649.csv\")\n",
    "dataset.info()"
   ]
  },
  {
   "cell_type": "code",
   "execution_count": 26,
   "metadata": {},
   "outputs": [
    {
     "data": {
      "text/html": [
       "<div>\n",
       "<style scoped>\n",
       "    .dataframe tbody tr th:only-of-type {\n",
       "        vertical-align: middle;\n",
       "    }\n",
       "\n",
       "    .dataframe tbody tr th {\n",
       "        vertical-align: top;\n",
       "    }\n",
       "\n",
       "    .dataframe thead th {\n",
       "        text-align: right;\n",
       "    }\n",
       "</style>\n",
       "<table border=\"1\" class=\"dataframe\">\n",
       "  <thead>\n",
       "    <tr style=\"text-align: right;\">\n",
       "      <th></th>\n",
       "      <th>PRODUCT</th>\n",
       "      <th>DRAW NUMBER</th>\n",
       "      <th>SEQUENCE NUMBER</th>\n",
       "      <th>DRAW DATE</th>\n",
       "      <th>NUMBER DRAWN 1</th>\n",
       "      <th>NUMBER DRAWN 2</th>\n",
       "      <th>NUMBER DRAWN 3</th>\n",
       "      <th>NUMBER DRAWN 4</th>\n",
       "      <th>NUMBER DRAWN 5</th>\n",
       "      <th>NUMBER DRAWN 6</th>\n",
       "      <th>BONUS NUMBER</th>\n",
       "    </tr>\n",
       "  </thead>\n",
       "  <tbody>\n",
       "    <tr>\n",
       "      <th>0</th>\n",
       "      <td>649</td>\n",
       "      <td>1</td>\n",
       "      <td>0</td>\n",
       "      <td>6/12/1982</td>\n",
       "      <td>3</td>\n",
       "      <td>11</td>\n",
       "      <td>12</td>\n",
       "      <td>14</td>\n",
       "      <td>41</td>\n",
       "      <td>43</td>\n",
       "      <td>13</td>\n",
       "    </tr>\n",
       "    <tr>\n",
       "      <th>1</th>\n",
       "      <td>649</td>\n",
       "      <td>2</td>\n",
       "      <td>0</td>\n",
       "      <td>6/19/1982</td>\n",
       "      <td>8</td>\n",
       "      <td>33</td>\n",
       "      <td>36</td>\n",
       "      <td>37</td>\n",
       "      <td>39</td>\n",
       "      <td>41</td>\n",
       "      <td>9</td>\n",
       "    </tr>\n",
       "    <tr>\n",
       "      <th>2</th>\n",
       "      <td>649</td>\n",
       "      <td>3</td>\n",
       "      <td>0</td>\n",
       "      <td>6/26/1982</td>\n",
       "      <td>1</td>\n",
       "      <td>6</td>\n",
       "      <td>23</td>\n",
       "      <td>24</td>\n",
       "      <td>27</td>\n",
       "      <td>39</td>\n",
       "      <td>34</td>\n",
       "    </tr>\n",
       "    <tr>\n",
       "      <th>3</th>\n",
       "      <td>649</td>\n",
       "      <td>4</td>\n",
       "      <td>0</td>\n",
       "      <td>7/3/1982</td>\n",
       "      <td>3</td>\n",
       "      <td>9</td>\n",
       "      <td>10</td>\n",
       "      <td>13</td>\n",
       "      <td>20</td>\n",
       "      <td>43</td>\n",
       "      <td>34</td>\n",
       "    </tr>\n",
       "    <tr>\n",
       "      <th>4</th>\n",
       "      <td>649</td>\n",
       "      <td>5</td>\n",
       "      <td>0</td>\n",
       "      <td>7/10/1982</td>\n",
       "      <td>5</td>\n",
       "      <td>14</td>\n",
       "      <td>21</td>\n",
       "      <td>31</td>\n",
       "      <td>34</td>\n",
       "      <td>47</td>\n",
       "      <td>45</td>\n",
       "    </tr>\n",
       "  </tbody>\n",
       "</table>\n",
       "</div>"
      ],
      "text/plain": [
       "   PRODUCT  DRAW NUMBER  SEQUENCE NUMBER  DRAW DATE  NUMBER DRAWN 1  \\\n",
       "0      649            1                0  6/12/1982               3   \n",
       "1      649            2                0  6/19/1982               8   \n",
       "2      649            3                0  6/26/1982               1   \n",
       "3      649            4                0   7/3/1982               3   \n",
       "4      649            5                0  7/10/1982               5   \n",
       "\n",
       "   NUMBER DRAWN 2  NUMBER DRAWN 3  NUMBER DRAWN 4  NUMBER DRAWN 5  \\\n",
       "0              11              12              14              41   \n",
       "1              33              36              37              39   \n",
       "2               6              23              24              27   \n",
       "3               9              10              13              20   \n",
       "4              14              21              31              34   \n",
       "\n",
       "   NUMBER DRAWN 6  BONUS NUMBER  \n",
       "0              43            13  \n",
       "1              41             9  \n",
       "2              39            34  \n",
       "3              43            34  \n",
       "4              47            45  "
      ]
     },
     "execution_count": 26,
     "metadata": {},
     "output_type": "execute_result"
    }
   ],
   "source": [
    "dataset.head()"
   ]
  },
  {
   "cell_type": "code",
   "execution_count": 28,
   "metadata": {},
   "outputs": [
    {
     "data": {
      "text/plain": [
       "649    3665\n",
       "Name: PRODUCT, dtype: int64"
      ]
     },
     "execution_count": 28,
     "metadata": {},
     "output_type": "execute_result"
    }
   ],
   "source": [
    "# Making sure we only work with data from the 649 lottery\n",
    "dataset['PRODUCT'].value_counts()"
   ]
  },
  {
   "cell_type": "code",
   "execution_count": 42,
   "metadata": {},
   "outputs": [],
   "source": [
    "# helper method to extract all winning numbers into a set\n",
    "def extract_numbers(row):\n",
    "    winning_numbers = {row['NUMBER DRAWN 1'], \n",
    "                       row['NUMBER DRAWN 2'], \n",
    "                       row['NUMBER DRAWN 3'], \n",
    "                       row['NUMBER DRAWN 4'], \n",
    "                       row['NUMBER DRAWN 5'], \n",
    "                       row['NUMBER DRAWN 6']}\n",
    "    return winning_numbers"
   ]
  },
  {
   "cell_type": "code",
   "execution_count": 45,
   "metadata": {},
   "outputs": [
    {
     "data": {
      "text/plain": [
       "0    {3, 41, 11, 12, 43, 14}\n",
       "1    {33, 36, 37, 39, 8, 41}\n",
       "2     {1, 6, 39, 23, 24, 27}\n",
       "3     {3, 9, 10, 43, 13, 20}\n",
       "4    {34, 5, 14, 47, 21, 31}\n",
       "dtype: object"
      ]
     },
     "execution_count": 45,
     "metadata": {},
     "output_type": "execute_result"
    }
   ],
   "source": [
    "# Extracted all winning numbers since 1982 into a Series\n",
    "winning_numbers = pd.Series(dataset.apply(extract_numbers, axis=1))\n",
    "winning_numbers.head()"
   ]
  },
  {
   "cell_type": "code",
   "execution_count": 59,
   "metadata": {},
   "outputs": [
    {
     "name": "stdout",
     "output_type": "stream",
     "text": [
      "Using the ticket numbers in our example. We found that the combination of 13, 22, 24, 27, 42, 44 matches 0 times to the winning numbers drawn since 1982.\n"
     ]
    }
   ],
   "source": [
    "def check_historical_occurence(ticket_numbers, winning_numbers):\n",
    "    mask = winning_numbers == ticket_numbers\n",
    "    return mask\n",
    "\n",
    "historical_matches = check_historical_occurence(set(ticket_number), winning_numbers).sum()\n",
    "print(\"Using the ticket numbers in our example. We found that the combination of 13, 22, 24, 27, 42, 44 matched {} times to the winning numbers drawn since 1982.\".format(historical_matches))\n"
   ]
  },
  {
   "attachments": {},
   "cell_type": "markdown",
   "metadata": {},
   "source": [
    "## Multi-ticket Probability\n",
    "\n",
    "It's possible to play with more than one ticket on a single drawing. This might give the player the idea that it increases their chances of winning significantly.\n",
    "\n",
    "Let's calculate the probability and hope this better estimates their chances of winning after reading this research."
   ]
  },
  {
   "cell_type": "code",
   "execution_count": 64,
   "metadata": {},
   "outputs": [
    {
     "name": "stdout",
     "output_type": "stream",
     "text": [
      "The chances of winning the big prize with 2 tickets is 0.00001430%\n",
      "The chances of winning the big prize with 3 tickets is 0.00002145%\n",
      "The chances of winning the big prize with 4 tickets is 0.00002860%\n",
      "The chances of winning the big prize with 5 tickets is 0.00003576%\n",
      "The chances of winning the big prize with 6 tickets is 0.00004291%\n",
      "The chances of winning the big prize with 7 tickets is 0.00005006%\n",
      "The chances of winning the big prize with 8 tickets is 0.00005721%\n",
      "The chances of winning the big prize with 9 tickets is 0.00006436%\n",
      "The chances of winning the big prize with 10 tickets is 0.00007151%\n",
      "The chances of winning the big prize with 11 tickets is 0.00007866%\n",
      "The chances of winning the big prize with 12 tickets is 0.00008581%\n",
      "The chances of winning the big prize with 13 tickets is 0.00009296%\n",
      "The chances of winning the big prize with 14 tickets is 0.00010012%\n",
      "The chances of winning the big prize with 15 tickets is 0.00010727%\n",
      "The chances of winning the big prize with 16 tickets is 0.00011442%\n",
      "The chances of winning the big prize with 17 tickets is 0.00012157%\n",
      "The chances of winning the big prize with 18 tickets is 0.00012872%\n",
      "The chances of winning the big prize with 19 tickets is 0.00013587%\n",
      "The chances of winning the big prize with 20 tickets is 0.00014302%\n",
      "The chances of winning the big prize with 21 tickets is 0.00015017%\n",
      "The chances of winning the big prize with 22 tickets is 0.00015732%\n",
      "The chances of winning the big prize with 23 tickets is 0.00016448%\n",
      "The chances of winning the big prize with 24 tickets is 0.00017163%\n",
      "The chances of winning the big prize with 25 tickets is 0.00017878%\n",
      "The chances of winning the big prize with 26 tickets is 0.00018593%\n",
      "The chances of winning the big prize with 27 tickets is 0.00019308%\n",
      "The chances of winning the big prize with 28 tickets is 0.00020023%\n",
      "The chances of winning the big prize with 29 tickets is 0.00020738%\n",
      "The chances of winning the big prize with 30 tickets is 0.00021453%\n",
      "The chances of winning the big prize with 31 tickets is 0.00022168%\n",
      "The chances of winning the big prize with 32 tickets is 0.00022884%\n",
      "The chances of winning the big prize with 33 tickets is 0.00023599%\n",
      "The chances of winning the big prize with 34 tickets is 0.00024314%\n",
      "The chances of winning the big prize with 35 tickets is 0.00025029%\n",
      "The chances of winning the big prize with 36 tickets is 0.00025744%\n",
      "The chances of winning the big prize with 37 tickets is 0.00026459%\n",
      "The chances of winning the big prize with 38 tickets is 0.00027174%\n",
      "The chances of winning the big prize with 39 tickets is 0.00027889%\n",
      "The chances of winning the big prize with 40 tickets is 0.00028604%\n",
      "The chances of winning the big prize with 41 tickets is 0.00029320%\n",
      "The chances of winning the big prize with 42 tickets is 0.00030035%\n",
      "The chances of winning the big prize with 43 tickets is 0.00030750%\n",
      "The chances of winning the big prize with 44 tickets is 0.00031465%\n",
      "The chances of winning the big prize with 45 tickets is 0.00032180%\n",
      "The chances of winning the big prize with 46 tickets is 0.00032895%\n",
      "The chances of winning the big prize with 47 tickets is 0.00033610%\n",
      "The chances of winning the big prize with 48 tickets is 0.00034325%\n",
      "The chances of winning the big prize with 49 tickets is 0.00035041%\n"
     ]
    }
   ],
   "source": [
    "def multi_ticket_probability(ticket_amount):\n",
    "    total_outcomes = combinations(49, 6)\n",
    "\n",
    "     # P(a) = successful outcomes (ticket_amount) / possible outcomes (total_outcomes)\n",
    "    p_big_prize = ticket_amount / total_outcomes\n",
    "    return p_big_prize\n",
    "\n",
    "ticket_amounts = range(2, 50)\n",
    "for i in ticket_amounts:\n",
    "    print(\"The chances of winning the big prize with {} tickets is {}%\".format(i, format(multi_ticket_probability(i)*100, '.8f')))"
   ]
  },
  {
   "attachments": {},
   "cell_type": "markdown",
   "metadata": {},
   "source": [
    "We can quickly conclude that paying for an extra few tickets is not significationly increases the chances of winning. Let's look at absurd high ticket amounts like 100000."
   ]
  },
  {
   "cell_type": "code",
   "execution_count": 109,
   "metadata": {},
   "outputs": [
    {
     "data": {
      "image/png": "[encoded data removed]",
      "text/plain": [
       "<Figure size 640x480 with 1 Axes>"
      ]
     },
     "metadata": {},
     "output_type": "display_data"
    }
   ],
   "source": [
    "import matplotlib.pylab as plt\n",
    "\n",
    "probabilities = []\n",
    "tickets = range (1, 100000, 100)\n",
    "for i in tickets:\n",
    "    p_big_prize = multi_ticket_probability(i)\n",
    "    probabilities.append(p_big_prize * 100)\n",
    "\n",
    "\n",
    "plt.style.use('fivethirtyeight')\n",
    "plt.plot(tickets, probabilities)\n",
    "plt.title(\"Probablity of winning multiple ticket\")\n",
    "plt.xlabel(\"Number of tickets\")\n",
    "plt.ylabel(\"Probability (%)\")\n",
    "plt.ylim(0, 3)\n",
    "plt.show()"
   ]
  },
  {
   "attachments": {},
   "cell_type": "markdown",
   "metadata": {},
   "source": [
    "Here we've plotted the chances of winning the big prize depending on the amount of tickets a player has. Note that the y limit is set to only 3% and that the x axis goes up to 100000 tickets.\n",
    "\n",
    "Playing with multiple tickets surely increases the chances of winning but only by a very small fraction."
   ]
  },
  {
   "cell_type": "code",
   "execution_count": 111,
   "metadata": {},
   "outputs": [
    {
     "data": {
      "image/png": "[encoded data removed]",
      "text/plain": [
       "<Figure size 640x480 with 1 Axes>"
      ]
     },
     "metadata": {},
     "output_type": "display_data"
    }
   ],
   "source": [
    "# how many tickets are needed for a 100% chance to win?\n",
    "\n",
    "import matplotlib.pylab as plt\n",
    "\n",
    "probabilities = []\n",
    "tickets = range (1, 13983816, 100)\n",
    "for i in tickets:\n",
    "    p_big_prize = multi_ticket_probability(i)\n",
    "    probabilities.append(p_big_prize * 100)\n",
    "\n",
    "\n",
    "plt.style.use('fivethirtyeight')\n",
    "plt.plot(tickets, probabilities)\n",
    "plt.title(\"Probablity of winning multiple ticket\")\n",
    "plt.xlabel(\"Number of tickets\")\n",
    "plt.ylabel(\"Probability (%)\")\n",
    "plt.show()"
   ]
  },
  {
   "attachments": {},
   "cell_type": "markdown",
   "metadata": {},
   "source": [
    "## Winning the 'comfort' prizes\n",
    "\n",
    "In most 6/49 lotteries there are smaller prizes if a player's ticket match two, three, four, or five of the six numbers drawn. Let's calculate the probability of winning theses other prizes and see if it's worthwhile to participate.\n",
    "\n",
    "For the sake of example, let's say a player chose these six numbers on a ticket: (1, 2, 3, 4 ,5 ,6). Out of these six numbers, we can form six five-number combinations:\n",
    "\n",
    "* (1, 2, 3, 4, 5)\n",
    "* (1, 2, 3, 4, 6)\n",
    "* (1, 2, 3, 5, 6)\n",
    "* (1, 2, 4, 5, 6)\n",
    "* (1, 3, 4, 5, 6)\n",
    "* (2, 3, 4, 5, 6)"
   ]
  },
  {
   "cell_type": "code",
   "execution_count": 88,
   "metadata": {},
   "outputs": [
    {
     "name": "stdout",
     "output_type": "stream",
     "text": [
      "There are 6.0 five-number combinations\n"
     ]
    }
   ],
   "source": [
    "# let's validate that with a formula\n",
    "c = combinations(6, 5)\n",
    "print(\"There are {} five-number combinations\".format(c))"
   ]
  },
  {
   "attachments": {},
   "cell_type": "markdown",
   "metadata": {},
   "source": [
    "For each one of the six five-number combinations above, there are 44 possible successful outcomes in a lottery drawing. For the combination (1, 2, 3, 4, 5), for instance, there are 44 lottery outcomes that would return a prize:\n",
    "\n",
    "* (1, 2, 3, 4, 5, 6)\n",
    "* (1, 2, 3, 4, 5, 7)\n",
    "* ...\n",
    "* (1, 2, 3, 4, 5, 30)\n",
    "* (1, 2, 3, 4, 5, 31)\n",
    "* ...\n",
    "* (1, 2, 3, 4, 5, 49)\n",
    "\n",
    "(we're going to leave out (1, 2, 3, 4, 5, 6) because we're only interested in outcomes that match exactly five numbers, not at least five numbers. This means we have 43 possible successful outcomes)"
   ]
  },
  {
   "cell_type": "code",
   "execution_count": 106,
   "metadata": {},
   "outputs": [
    {
     "name": "stdout",
     "output_type": "stream",
     "text": [
      "In total, there are 258 successful outcomes\n",
      "There are 13983816.0 outcomes in total\n",
      "The chances of winning the smaller prize when matching 5 numbers is 0.0018%\n"
     ]
    }
   ],
   "source": [
    "total_sucess_outcomes = 6 * 43\n",
    "print(\"In total, there are {} successful outcomes\".format(total_sucess_outcomes))\n",
    "\n",
    "total_outcomes = combinations(49, 6)\n",
    "print(\"There are {} outcomes in total\".format(total_outcomes))\n",
    "\n",
    "#P(5-winning numbers) = 258 / 49C6\n",
    "p_5_winning = 258 / total_outcomes\n",
    "print(\"The chances of winning the smaller prize when matching 5 numbers is {}%\".format(format(p_5_winning*100, '.4f')))"
   ]
  },
  {
   "cell_type": "code",
   "execution_count": 104,
   "metadata": {},
   "outputs": [
    {
     "name": "stdout",
     "output_type": "stream",
     "text": [
      "The chances of winning the smaller prize when matching 4 numbers is 0.10%\n",
      "The chances of winning the smaller prize when matching 3 numbers is 1.77%\n",
      "The chances of winning the smaller prize when matching 2 numbers is 13.24%\n",
      "The chances of winning the smaller prize when matching 1 number is 41.30%\n"
     ]
    }
   ],
   "source": [
    "# We can write a funcion that calculates this\n",
    "def probability_less_6(matching_int): # matching_int: integer between 2 and 5\n",
    "    successful_combinations = combinations(6, matching_int)\n",
    "    n_combinations_remaining = combinations(43, 6 - matching_int)\n",
    "    total_sucess_outcomes = successful_combinations * n_combinations_remaining\n",
    "\n",
    "    #P(x-winning numbers) = successful_combinations / total_outcomes\n",
    "    p_x_winning = total_sucess_outcomes / total_outcomes\n",
    "    return p_x_winning\n",
    "\n",
    "print(\"The chances of winning the smaller prize when matching 4 numbers is {}%\".format(format(probability_less_6(4)*100, '.2f')))\n",
    "print(\"The chances of winning the smaller prize when matching 3 numbers is {}%\".format(format(probability_less_6(3)*100, '.2f')))\n",
    "print(\"The chances of winning the smaller prize when matching 2 numbers is {}%\".format(format(probability_less_6(2)*100, '.2f')))\n",
    "print(\"The chances of winning the smaller prize when matching 1 number is {}%\".format(format(probability_less_6(1)*100, '.2f')))"
   ]
  }
 ],
 "metadata": {
  "kernelspec": {
   "display_name": "base",
   "language": "python",
   "name": "python3"
  },
  "language_info": {
   "codemirror_mode": {
    "name": "ipython",
    "version": 3
   },
   "file_extension": ".py",
   "mimetype": "text/x-python",
   "name": "python",
   "nbconvert_exporter": "python",
   "pygments_lexer": "ipython3",
   "version": "3.9.13"
  },
  "orig_nbformat": 4
 },
 "nbformat": 4,
 "nbformat_minor": 2
}
